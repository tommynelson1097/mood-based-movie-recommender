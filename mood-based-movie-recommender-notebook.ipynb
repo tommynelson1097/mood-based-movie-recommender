{
 "cells": [
  {
   "cell_type": "code",
   "execution_count": null,
   "id": "2d902d50",
   "metadata": {},
   "outputs": [],
   "source": [
    "# Import os\n",
    "import requests\n",
    "import openai\n",
    "from dotenv import load_dotenv\n",
    "import os\n",
    "\n"
   ]
  },
  {
   "cell_type": "code",
   "execution_count": 2,
   "id": "10bbbeac",
   "metadata": {},
   "outputs": [],
   "source": [
    "def fetch_movies_from_tmdb(mood, decade, min_rating, country):\n",
    "    \"\"\"Fetch movies from TMDB based on mood, decade, minimum rating, and country of origin.\"\"\"\n",
    "    genres = get_genres_for_mood(mood)\n",
    "    genre_str = ','.join(genres)\n",
    "    start_date = f'{decade}-01-01'\n",
    "    end_date = f'{decade+9}-12-31'\n",
    "    load_dotenv()\n",
    "    api_key = os.getenv('TMDB_API_KEY')\n",
    "    url = \"https://api.themoviedb.org/3/discover/movie\"\n",
    "    params = {\n",
    "        \"api_key\": api_key,\n",
    "        \"with_genres\": genre_str,\n",
    "        \"sort_by\": \"popularity.desc\",\n",
    "        \"primary_release_date.gte\": start_date,\n",
    "        \"primary_release_date.lte\": end_date,\n",
    "        \"vote_average.gte\": min_rating,\n",
    "        \"region\": country.upper(),\n",
    "    }\n",
    "    response = requests.get(url, params=params)\n",
    "    return response.json().get(\"results\", [])"
   ]
  },
  {
   "cell_type": "code",
   "execution_count": null,
   "id": "0f92c4da",
   "metadata": {},
   "outputs": [
    {
     "ename": "NameError",
     "evalue": "name 'os' is not defined",
     "output_type": "error",
     "traceback": [
      "\u001b[1;31m---------------------------------------------------------------------------\u001b[0m",
      "\u001b[1;31mNameError\u001b[0m                                 Traceback (most recent call last)",
      "\u001b[1;32m~\\AppData\\Local\\Temp/ipykernel_19912/2965605560.py\u001b[0m in \u001b[0;36m<module>\u001b[1;34m\u001b[0m\n\u001b[0;32m      1\u001b[0m \u001b[1;31m# Load OpenAI API key from .env file (add OPENAI_API_KEY=your_key to .env)\u001b[0m\u001b[1;33m\u001b[0m\u001b[1;33m\u001b[0m\u001b[0m\n\u001b[0;32m      2\u001b[0m \u001b[0mload_dotenv\u001b[0m\u001b[1;33m(\u001b[0m\u001b[1;33m)\u001b[0m\u001b[1;33m\u001b[0m\u001b[1;33m\u001b[0m\u001b[0m\n\u001b[1;32m----> 3\u001b[1;33m \u001b[0mopenai_api_key\u001b[0m \u001b[1;33m=\u001b[0m \u001b[0mos\u001b[0m\u001b[1;33m.\u001b[0m\u001b[0mgetenv\u001b[0m\u001b[1;33m(\u001b[0m\u001b[1;34m'OPENAI_API_KEY'\u001b[0m\u001b[1;33m)\u001b[0m\u001b[1;33m\u001b[0m\u001b[1;33m\u001b[0m\u001b[0m\n\u001b[0m\u001b[0;32m      4\u001b[0m \u001b[1;33m\u001b[0m\u001b[0m\n\u001b[0;32m      5\u001b[0m \u001b[1;32mdef\u001b[0m \u001b[0mgenerate_movie_recommendations\u001b[0m\u001b[1;33m(\u001b[0m\u001b[0mmood\u001b[0m\u001b[1;33m,\u001b[0m \u001b[0mmovies\u001b[0m\u001b[1;33m,\u001b[0m \u001b[0mn\u001b[0m\u001b[1;33m=\u001b[0m\u001b[1;36m3\u001b[0m\u001b[1;33m)\u001b[0m\u001b[1;33m:\u001b[0m\u001b[1;33m\u001b[0m\u001b[1;33m\u001b[0m\u001b[0m\n",
      "\u001b[1;31mNameError\u001b[0m: name 'os' is not defined"
     ]
    }
   ],
   "source": [
    "# Load OpenAI API key from Jupyter secrets (add with %store or JupyterLab secrets UI)\n",
    "\n",
    "def get_secret(secret_name):\n",
    "    # Jupyter secrets are available as environment variables prefixed with 'SECRET_'\n",
    "    return os.environ.get(f'SECRET_{secret_name}')\n",
    "\n",
    "openai_api_key = get_secret('OPENAI_API_KEY')\n",
    "\n",
    "def generate_movie_recommendations(mood, movies, n=3):\n",
    "    \"\"\"Use OpenAI GPT to recommend and describe n movies for the given mood, showing TMDB rating next to each film name.\"\"\"\n",
    "    if not openai_api_key:\n",
    "        raise ValueError('OpenAI API key not found. Please add OPENAI_API_KEY as a Jupyter secret.')\n",
    "    openai.api_key = openai_api_key\n",
    "    movie_list = '\\n'.join([f\"- {m['title']} (TMDB rating: {m.get('vote_average', 'N/A')}): {m.get('overview', 'No description available.')}\" for m in movies[:10]])\n",
    "    prompt = (f\"User mood: {mood}\\n\"\n",
    "              f\"Here are some movies fetched from TMDB that might fit this mood (with their TMDB ratings):\\n{movie_list}\\n\\n\"\n",
    "              f\"Please recommend and describe {n} movies from this list that best fit the user's mood. For each recommended movie, you must display the TMDB rating next to the movie title in your output. Respond in a friendly, engaging way.\")\n",
    "    response = openai.chat.completions.create(\n",
    "        model=\"gpt-3.5-turbo\",\n",
    "        messages=[{\"role\": \"user\", \"content\": prompt}],\n",
    "        max_tokens=500,\n",
    "        temperature=0.7,\n",
    "    )\n",
    "    return response.choices[0].message.content"
   ]
  },
  {
   "cell_type": "code",
   "execution_count": null,
   "id": "2f50409e",
   "metadata": {},
   "outputs": [],
   "source": [
    "# Example usage: fetch movies and generate recommendations using the function\n",
    "mood = 'happy'  # e.g., 'sad', 'excited', etc.\n",
    "decade = 2000  # e.g., 1980, 1990, 2000, 2010, 2020\n",
    "min_rating = 8.0  # Minimum average vote\n",
    "country = 'US'    # 2-letter country code\n",
    "\n",
    "movies = fetch_movies_from_tmdb(mood, decade, min_rating, country)"
   ]
  },
  {
   "cell_type": "code",
   "execution_count": null,
   "id": "fd61fccd",
   "metadata": {},
   "outputs": [
    {
     "name": "stdout",
     "output_type": "stream",
     "text": [
      "I'm so glad to hear that you're feeling happy! Here are 10 movies from the list that might match your cheerful mood:\n",
      "\n",
      "1. Onni von Sopanen (TMDB rating: 9.0) - Join 11-year-old Onni on his journey to uncover the truth about his parents in this heartwarming tale.\n",
      "2. Adventure Time (TMDB rating: 8.2) - Dive into the whimsical world of Pen and Jake as they embark on a rescue mission to save Princess Bubblegum.\n",
      "3. The 1st 13th Annual Fancy Anvil Awards Show Program Special: Live in Stereo (TMDB rating: 10.0) - Get ready for a fun-filled awards show celebrating cartoon excellence with Cartoon Network!\n",
      "4. Codename: Kids Next Door: Operation I.N.T.E.R.V.I.E.W.S. (TMDB rating: 8.276) - Join the former KND operatives as they reminisce about their last mission in a thrilling scavenger hunt adventure.\n",
      "5. Lotte from Gadgetville (TMDB rating: 8.6) - Experience a village full of inventors and join Lotte on an exciting journey with new friends from distant lands.\n",
      "6. Little Einsteins: Our Big Huge Adventure (TMDB rating: 10.0) - Sing, clap, and dance along with Leo, June, Quincy, Annie, and Rocket as they explore exciting destinations in this interactive educational program.\n",
      "7. Night of the Living Doo (TMDB rating: 8.9) - Laugh along with Scooby-Doo and the gang as they encounter hilarious hijinks at a haunted castle owned by David Cross.\n",
      "8. Navra Mazha Navsacha (TMDB rating: 10.0) - Follow a heartwarming journey of a husband and wife as they fulfill a vow in this touching tale.\n",
      "9. The Time Is Here (TMDB rating: 10.0) - Immerse yourself in the world of a famous singer and her mission to discover true talent in this inspiring series.\n",
      "10. Billy and Mandy Save Christmas (TMDB rating: 8.8) - Join Billy and Mandy as they race against time to save Santa and ensure a merry Christmas for all.\n",
      "\n",
      "I hope these movie recommendations bring even more happiness to your day! Enjoy watching! 😊🎥✨\n"
     ]
    }
   ],
   "source": [
    "# Generate and display AI-powered recommendations\n",
    "output = generate_movie_recommendations(mood, movies, n=10)\n",
    "print(output)"
   ]
  }
 ],
 "metadata": {
  "kernelspec": {
   "display_name": "base",
   "language": "python",
   "name": "python3"
  },
  "language_info": {
   "codemirror_mode": {
    "name": "ipython",
    "version": 3
   },
   "file_extension": ".py",
   "mimetype": "text/x-python",
   "name": "python",
   "nbconvert_exporter": "python",
   "pygments_lexer": "ipython3",
   "version": "3.9.7"
  }
 },
 "nbformat": 4,
 "nbformat_minor": 5
}
