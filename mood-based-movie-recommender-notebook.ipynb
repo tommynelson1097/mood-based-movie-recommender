{
 "cells": [
  {
   "cell_type": "code",
   "execution_count": 29,
   "id": "2d902d50",
   "metadata": {},
   "outputs": [
    {
     "data": {
      "text/plain": [
       "True"
      ]
     },
     "execution_count": 29,
     "metadata": {},
     "output_type": "execute_result"
    }
   ],
   "source": [
    "# Import required libraries and project functions\n",
    "import os\n",
    "import requests\n",
    "import openai\n",
    "from dotenv import load_dotenv\n",
    "from functions import fetch_movies_from_tmdb, generate_movie_recommendations, get_genres_for_mood\n",
    "\n",
    "# Load environment variables from .env file\n",
    "load_dotenv()"
   ]
  },
  {
   "cell_type": "code",
   "execution_count": 30,
   "id": "10bbbeac",
   "metadata": {},
   "outputs": [],
   "source": [
    "# TMDB API key is now loaded from Jupyter secrets (add with %store or JupyterLab secrets UI)\n",
    "def ovies_from_tmdb(mood, decade, min_rating):\n",
    "    \"\"\"Fetch movies from TMDB based on mood, decade, minimum rating.\"\"\"\n",
    "    genres = get_genres_for_mood(mood)\n",
    "    genre_str = ','.join(genres)\n",
    "    start_date = f'{decade}-01-01'\n",
    "    end_date = f'{decade+9}-12-31'\n",
    "    api_key = os.environ.get('SECRET_TMDB_API_KEY')\n",
    "    if not api_key:\n",
    "        raise ValueError('TMDB API key not found. Please add TMDB_API_KEY as a Jupyter secret.')\n",
    "    url = \"https://api.themoviedb.org/3/discover/movie\"\n",
    "    params = {\n",
    "        \"api_key\": api_key,\n",
    "        \"with_genres\": genre_str,\n",
    "        \"sort_by\": \"popularity.desc\",\n",
    "        \"primary_release_date.gte\": start_date,\n",
    "        \"primary_release_date.lte\": end_date,\n",
    "        \"vote_average.gte\": min_rating,\n",
    "    }\n",
    "    response = requests.get(url, params=params)\n",
    "    return response.json().get(\"results\", [])"
   ]
  },
  {
   "cell_type": "code",
   "execution_count": 31,
   "id": "0f92c4da",
   "metadata": {},
   "outputs": [],
   "source": [
    "# Load OpenAI API key from .env file\n",
    "\n",
    "openai_api_key = os.environ.get('OPENAI_API_KEY')\n",
    "\n",
    "def generate_movie_recommendations(mood, movies, n=3):\n",
    "    \"\"\"Use OpenAI GPT to recommend and describe n movies for the given mood, showing TMDB rating next to each film name.\"\"\"\n",
    "    if not openai_api_key:\n",
    "        raise ValueError('OpenAI API key not found. Please add OPENAI_API_KEY to your .env file.')\n",
    "    openai.api_key = openai_api_key\n",
    "    movie_list = '\\n'.join([f\"- {m['title']} (TMDB rating: {m.get('vote_average', 'N/A')}): {m.get('overview', 'No description available.')}\" for m in movies[:10]])\n",
    "    prompt = (f\"User mood: {mood}\\n\"\n",
    "              f\"Here are some movies fetched from TMDB that might fit this mood (with their TMDB ratings):\\n{movie_list}\\n\\n\"\n",
    "              f\"Please recommend and describe {n} movies from this list that best fit the user's mood. For each recommended movie, you must display the TMDB rating next to the movie title in your output. Respond in a friendly, engaging way.\")\n",
    "    response = openai.chat.completions.create(\n",
    "        model=\"gpt-3.5-turbo\",\n",
    "        messages=[{\"role\": \"user\", \"content\": prompt}],\n",
    "        max_tokens=500,\n",
    "        temperature=0.7,\n",
    "    )\n",
    "    return response.choices[0].message.content"
   ]
  },
  {
   "cell_type": "code",
   "execution_count": 34,
   "id": "2f50409e",
   "metadata": {},
   "outputs": [
    {
     "ename": "TypeError",
     "evalue": "fetch_movies_from_tmdb() missing 1 required positional argument: 'country'",
     "output_type": "error",
     "traceback": [
      "\u001b[1;31m---------------------------------------------------------------------------\u001b[0m",
      "\u001b[1;31mTypeError\u001b[0m                                 Traceback (most recent call last)",
      "\u001b[1;32m~\\AppData\\Local\\Temp/ipykernel_22208/242198761.py\u001b[0m in \u001b[0;36m<module>\u001b[1;34m\u001b[0m\n\u001b[0;32m      4\u001b[0m \u001b[0mmin_rating\u001b[0m \u001b[1;33m=\u001b[0m \u001b[1;36m8.0\u001b[0m  \u001b[1;31m# Minimum average vote\u001b[0m\u001b[1;33m\u001b[0m\u001b[1;33m\u001b[0m\u001b[0m\n\u001b[0;32m      5\u001b[0m \u001b[1;33m\u001b[0m\u001b[0m\n\u001b[1;32m----> 6\u001b[1;33m \u001b[0mmovies\u001b[0m \u001b[1;33m=\u001b[0m \u001b[0mfetch_movies_from_tmdb\u001b[0m\u001b[1;33m(\u001b[0m\u001b[0mmood\u001b[0m\u001b[1;33m,\u001b[0m \u001b[0mdecade\u001b[0m\u001b[1;33m,\u001b[0m \u001b[0mmin_rating\u001b[0m\u001b[1;33m)\u001b[0m\u001b[1;33m\u001b[0m\u001b[1;33m\u001b[0m\u001b[0m\n\u001b[0m",
      "\u001b[1;31mTypeError\u001b[0m: fetch_movies_from_tmdb() missing 1 required positional argument: 'country'"
     ]
    }
   ],
   "source": [
    "# Example usage: fetch movies and generate recommendations using the function\n",
    "mood = 'happy'  # e.g., 'sad', 'excited', etc.\n",
    "decade = 2000  # e.g., 1980, 1990, 2000, 2010, 2020\n",
    "min_rating = 8.0  # Minimum average vote\n",
    "\n",
    "movies = fetch_movies_from_tmdb(mood, decade, min_rating)"
   ]
  },
  {
   "cell_type": "code",
   "execution_count": null,
   "id": "fd61fccd",
   "metadata": {},
   "outputs": [
    {
     "name": "stderr",
     "output_type": "stream",
     "text": [
      "2025-08-10 18:53:07.829 INFO    httpx: HTTP Request: POST https://api.openai.com/v1/chat/completions \"HTTP/1.1 200 OK\"\n"
     ]
    },
    {
     "name": "stdout",
     "output_type": "stream",
     "text": [
      "I'm so glad to hear that you're feeling happy! Here are 10 movies that might just add to your cheerful mood:\n",
      "\n",
      "1. Adventure Time (TMDB rating: 8.2) - Join Pen and Jake on a fun and adventurous journey to rescue Princess Bubblegum. This charming animated series is sure to bring a smile to your face.\n",
      "\n",
      "2. Onni von Sopanen (TMDB rating: 9.0) - Follow 11-year-old Onni as he embarks on a heartwarming quest to discover his true roots. This touching story is bound to leave you feeling uplifted.\n",
      "\n",
      "3. Lotte from Gadgetville (TMDB rating: 8.6) - Step into the whimsical world of Lotte and her inventive village as they compete in an annual competition. This delightful animated film is full of joy and creativity.\n",
      "\n",
      "4. Codename: Kids Next Door: Operation I.N.T.E.R.V.I.E.W.S. (TMDB rating: 8.276) - Join the former KND operatives as they reminisce about their final mission. This action-packed and nostalgic adventure is sure to entertain you.\n",
      "\n",
      "5. The 1st 13th Annual Fancy Anvil Awards Show Program Special: Live in Stereo (TMDB rating: 10.0) - Get ready for a hilarious awards show celebrating cartoon excellence. This special event is guaranteed to make you laugh and feel good.\n",
      "\n",
      "6. Ed, Edd n Eddy's Hanky Panky Hullabaloo (TMDB rating: 9.333) - Join the Eds on a mischievous Valentine's Day adventure. This festive and fun-filled special is perfect for spreading some love and laughter.\n",
      "\n",
      "7. Night of the Living Doo (TMDB rating: 8.9) - Watch as Scooby-Doo and the gang encounter spooky surprises at a haunted castle. This comedic spoof is sure to keep you entertained and in high spirits.\n",
      "\n",
      "8. Ed, Edd n Eddy’s Jingle Jingle Jangle (TMDB rating: 9.083) - Follow Eddy's hilarious scheme to score better Christmas presents. This festive and light-hearted special is perfect for getting into the holiday spirit.\n",
      "\n",
      "9. Elmo's Magic Cookbook (TMDB rating: 10.0) - Embark on a magical adventure with Elmo and his friends in the enchanted kitchen. This delightful story is filled with fun and foodie delights\n"
     ]
    }
   ],
   "source": [
    "# Generate and display AI-powered recommendations\n",
    "output = generate_movie_recommendations(mood, movies, n=10)\n",
    "print(output)"
   ]
  }
 ],
 "metadata": {
  "kernelspec": {
   "display_name": "base",
   "language": "python",
   "name": "python3"
  },
  "language_info": {
   "codemirror_mode": {
    "name": "ipython",
    "version": 3
   },
   "file_extension": ".py",
   "mimetype": "text/x-python",
   "name": "python",
   "nbconvert_exporter": "python",
   "pygments_lexer": "ipython3",
   "version": "3.9.7"
  }
 },
 "nbformat": 4,
 "nbformat_minor": 5
}
