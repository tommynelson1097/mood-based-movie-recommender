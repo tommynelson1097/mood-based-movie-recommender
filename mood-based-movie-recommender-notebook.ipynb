{
 "cells": [
  {
   "cell_type": "code",
   "execution_count": 36,
   "id": "2d902d50",
   "metadata": {},
   "outputs": [],
   "source": [
    "# Import os\n",
    "import requests\n",
    "import openai\n",
    "from dotenv import load_dotenv\n"
   ]
  },
  {
   "cell_type": "code",
   "execution_count": 37,
   "id": "29b621d7",
   "metadata": {},
   "outputs": [],
   "source": [
    "# Map moods to TMDB genre IDs\n",
    "mood_to_genre = {\n",
    "    'happy': ['35', '10751'],        # Comedy, Family\n",
    "    'sad': ['18'],                  # Drama\n",
    "    'excited': ['28', '12'],        # Action, Adventure\n",
    "    'romantic': ['10749'],          # Romance\n",
    "    'scared': ['27', '53'],         # Horror, Thriller\n",
    "    'curious': ['99'],              # Documentary\n",
    "    'fantasy': ['14', '16'],        # Fantasy, Animation\n",
    "    'mysterious': ['9648'],         # Mystery\n",
    "    'inspired': ['36', '10402'],    # History, Music\n",
    "    'sci-fi': ['878'],              # Science Fiction\n",
    "}\n",
    "\n",
    "def get_genres_for_mood(mood):\n",
    "    \"\"\"Return a list of genre IDs for a given mood.\"\"\"\n",
    "    return mood_to_genre.get(mood.lower(), ['18'])  # Default to Drama if not found"
   ]
  },
  {
   "cell_type": "code",
   "execution_count": 38,
   "id": "10bbbeac",
   "metadata": {},
   "outputs": [],
   "source": [
    "def fetch_movies_from_tmdb(mood, decade, min_rating, country):\n",
    "    \"\"\"Fetch movies from TMDB based on mood, decade, minimum rating, and country of origin.\"\"\"\n",
    "    genres = get_genres_for_mood(mood)\n",
    "    genre_str = ','.join(genres)\n",
    "    start_date = f'{decade}-01-01'\n",
    "    end_date = f'{decade+9}-12-31'\n",
    "    load_dotenv()\n",
    "    api_key = os.getenv('TMDB_API_KEY')\n",
    "    url = \"https://api.themoviedb.org/3/discover/movie\"\n",
    "    params = {\n",
    "        \"api_key\": api_key,\n",
    "        \"with_genres\": genre_str,\n",
    "        \"sort_by\": \"popularity.desc\",\n",
    "        \"primary_release_date.gte\": start_date,\n",
    "        \"primary_release_date.lte\": end_date,\n",
    "        \"vote_average.gte\": min_rating,\n",
    "        \"region\": country.upper(),\n",
    "    }\n",
    "    response = requests.get(url, params=params)\n",
    "    return response.json().get(\"results\", [])"
   ]
  },
  {
   "cell_type": "code",
   "execution_count": null,
   "id": "0f92c4da",
   "metadata": {},
   "outputs": [],
   "source": [
    "# Load OpenAI API key from .env file (add OPENAI_API_KEY=your_key to .env)\n",
    "load_dotenv()\n",
    "openai_api_key = os.getenv('OPENAI_API_KEY')\n",
    "\n",
    "def generate_movie_recommendations(mood, movies, n=3):\n",
    "    \"\"\"Use OpenAI GPT to recommend and describe n movies for the given mood, showing TMDB rating next to each film name.\"\"\"\n",
    "    if not openai_api_key:\n",
    "        raise ValueError('OpenAI API key not found. Please add OPENAI_API_KEY to your .env file.')\n",
    "    openai.api_key = openai_api_key\n",
    "    movie_list = '\\n'.join([f\"- {m['title']} (TMDB rating: {m.get('vote_average', 'N/A')}): {m.get('overview', 'No description available.')}\" for m in movies[:10]])\n",
    "    prompt = (f\"User mood: {mood}\\n\"\n",
    "              f\"Here are some movies fetched from TMDB that might fit this mood (with their TMDB ratings):\\n{movie_list}\\n\\n\"\n",
    "              f\"Please recommend and describe {n} movies from this list that best fit the user's mood. For each recommended movie, you must display the TMDB rating next to the movie title in your output. Respond in a friendly, engaging way.\")\n",
    "    response = openai.chat.completions.create(\n",
    "        model=\"gpt-3.5-turbo\",\n",
    "        messages=[{\"role\": \"user\", \"content\": prompt}],\n",
    "        max_tokens=500,\n",
    "        temperature=0.7,\n",
    "    )\n",
    "    return response.choices[0].message.content"
   ]
  },
  {
   "cell_type": "code",
   "execution_count": 40,
   "id": "2f50409e",
   "metadata": {},
   "outputs": [],
   "source": [
    "# Example usage: fetch movies and generate recommendations using the function\n",
    "mood = 'sad'  # e.g., 'sad', 'excited', etc.\n",
    "decade = 2000  # e.g., 1980, 1990, 2000, 2010, 2020\n",
    "min_rating = 8.0  # Minimum average vote\n",
    "country = 'US'    # 2-letter country code\n",
    "\n",
    "movies = fetch_movies_from_tmdb(mood, decade, min_rating, country)"
   ]
  },
  {
   "cell_type": "code",
   "execution_count": 41,
   "id": "fd61fccd",
   "metadata": {},
   "outputs": [
    {
     "name": "stdout",
     "output_type": "stream",
     "text": [
      "I'm sorry to hear that you're feeling sad. Here are 10 movies from the list that might resonate with your mood:\n",
      "\n",
      "1. The Dark Knight: This intense and gripping film delves into the darkness of Gotham City, where chaos reigns and the line between good and evil becomes blurred.\n",
      "\n",
      "2. Inglourious Basterds: A tale of revenge and resistance during WWII, this film showcases the brutality of war and the lengths people will go to in order to fight back against oppression.\n",
      "\n",
      "3. Gladiator: A story of betrayal and redemption, Gladiator follows the journey of a fallen warrior who seeks vengeance against those who wronged him.\n",
      "\n",
      "4. Oldboy: This haunting and twisted tale of revenge will keep you on the edge of your seat as the protagonist seeks justice for the years of torment he endured.\n",
      "\n",
      "5. The Departed: A gritty and suspenseful crime drama, The Departed explores the complexities of loyalty and betrayal within the criminal underworld.\n",
      "\n",
      "6. Eternal Sunshine of the Spotless Mind: A poignant and thought-provoking film about love and memory, this movie will tug at your heartstrings as the characters grapple with lost love and regret.\n",
      "\n",
      "7. The Prestige: A mesmerizing and dark tale of obsession and rivalry, The Prestige delves into the world of magic and deception with unexpected twists and turns.\n",
      "\n",
      "8. There Will Be Blood: A powerful and intense drama about greed and ambition, There Will Be Blood will leave you reflecting on the destructive nature of unchecked ambition.\n",
      "\n",
      "9. The Pianist: This moving and harrowing true story follows a pianist's struggle for survival during the horrors of the Nazi occupation, showcasing the resilience of the human spirit in the face of unimaginable adversity.\n",
      "\n",
      "I hope one of these movies resonates with you and provides some solace during this difficult time. Take care.\n"
     ]
    }
   ],
   "source": [
    "# Generate and display AI-powered recommendations\n",
    "output = generate_movie_recommendations(mood, movies, n=10)\n",
    "print(output)"
   ]
  }
 ],
 "metadata": {
  "kernelspec": {
   "display_name": "base",
   "language": "python",
   "name": "python3"
  },
  "language_info": {
   "codemirror_mode": {
    "name": "ipython",
    "version": 3
   },
   "file_extension": ".py",
   "mimetype": "text/x-python",
   "name": "python",
   "nbconvert_exporter": "python",
   "pygments_lexer": "ipython3",
   "version": "3.9.7"
  }
 },
 "nbformat": 4,
 "nbformat_minor": 5
}
